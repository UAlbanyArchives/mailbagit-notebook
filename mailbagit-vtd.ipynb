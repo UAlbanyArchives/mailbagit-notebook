{
 "cells": [
  {
   "cell_type": "markdown",
   "id": "e6427e01",
   "metadata": {},
   "source": [
    "# Mailbagit testing notebook"
   ]
  },
  {
   "cell_type": "markdown",
   "id": "01feafec",
   "metadata": {},
   "source": [
    "### We have some sample data, lets explore it to get out bearings\n",
    "\n",
    "[View the sample data](/tree/sampleData)"
   ]
  },
  {
   "cell_type": "markdown",
   "id": "6c7b1261",
   "metadata": {},
   "source": [
    "### Lets make sure we have mailbagit installed"
   ]
  },
  {
   "cell_type": "code",
   "execution_count": 2,
   "id": "8ce0bdb9",
   "metadata": {},
   "outputs": [
    {
     "name": "stdout",
     "output_type": "stream",
     "text": [
      "\u001b[2m2022-06-07 15:47.22\u001b[0m [\u001b[33m\u001b[1mwarning  \u001b[0m] \u001b[1mMAILBAGIT_LOG_LEVEL environment variable not set or incorrect\u001b[0m\n",
      "mailbagit 0.3.0\n",
      "\u001b[0m"
     ]
    }
   ],
   "source": [
    "! mailbagit -v"
   ]
  },
  {
   "cell_type": "markdown",
   "id": "3be75cb5",
   "metadata": {},
   "source": [
    "### Try a \"dry run\"\n",
    "This would package `account.mbox` into a mailbag called \"test1\" with HTML and EML derivatives"
   ]
  },
  {
   "cell_type": "code",
   "execution_count": 1,
   "id": "e982541b",
   "metadata": {
    "scrolled": false
   },
   "outputs": [
    {
     "name": "stdout",
     "output_type": "stream",
     "text": [
      "\u001b[2m2022-06-07 15:47.55\u001b[0m [\u001b[33m\u001b[1mwarning  \u001b[0m] \u001b[1mMAILBAGIT_LOG_LEVEL environment variable not set or incorrect\u001b[0m\n",
      "2022-06-07 15:48.00 [\u001b[96mProgress \u001b[0m] 100.0% [331 / 331 messages] 0.0s remaining\n",
      "2022-06-07 15:48.00 [\u001b[96mProgress \u001b[0m] Finished packaging mailbag.\n",
      "\u001b[0m"
     ]
    }
   ],
   "source": [
    "! mailbagit sampleData/account.mbox -i mbox -d html eml -m test1 -r"
   ]
  },
  {
   "cell_type": "markdown",
   "id": "937ed6fa",
   "metadata": {},
   "source": [
    "### Try it for real!\n",
    "This will actually create the mailbag"
   ]
  },
  {
   "cell_type": "code",
   "execution_count": 2,
   "id": "600af71a",
   "metadata": {
    "scrolled": true
   },
   "outputs": [
    {
     "name": "stdout",
     "output_type": "stream",
     "text": [
      "\u001b[2m2022-06-07 15:48.03\u001b[0m [\u001b[33m\u001b[1mwarning  \u001b[0m] \u001b[1mMAILBAGIT_LOG_LEVEL environment variable not set or incorrect\u001b[0m\n",
      "2022-06-07 15:48.08 [\u001b[96mProgress \u001b[0m] 100.0% [331 / 331 messages] 0.0s remaining\n",
      "2022-06-07 15:48.08 [\u001b[96mProgress \u001b[0m] Finished packaging mailbag.\n",
      "\u001b[0m"
     ]
    }
   ],
   "source": [
    "! mailbagit sampleData/account.mbox -i mbox -d html eml -m test1"
   ]
  },
  {
   "cell_type": "markdown",
   "id": "bb58dfc2",
   "metadata": {},
   "source": [
    "#### Make sure to run this to reset the sample data"
   ]
  },
  {
   "cell_type": "code",
   "execution_count": 3,
   "id": "7b390f40",
   "metadata": {},
   "outputs": [],
   "source": [
    "! cp sampleData/test1/data/mbox/account.mbox sampleData/"
   ]
  },
  {
   "cell_type": "markdown",
   "id": "3c1edbe0",
   "metadata": {},
   "source": [
    "[Checkout the mailbag!](/tree/sampleData/test1)"
   ]
  },
  {
   "cell_type": "markdown",
   "id": "f5c2192e",
   "metadata": {},
   "source": [
    "### Lets try a some MSG files\n",
    "Do a \"dry run\" first again"
   ]
  },
  {
   "cell_type": "code",
   "execution_count": 5,
   "id": "460f01e5",
   "metadata": {},
   "outputs": [
    {
     "name": "stdout",
     "output_type": "stream",
     "text": [
      "\u001b[2m2022-06-07 15:49.44\u001b[0m [\u001b[33m\u001b[1mwarning  \u001b[0m] \u001b[1mMAILBAGIT_LOG_LEVEL environment variable not set or incorrect\u001b[0m\n",
      "\u001b[2m2022-06-07 15:49.46\u001b[0m [\u001b[33m\u001b[1mwarning  \u001b[0m] \u001b[1mNo body present for 14. Created EML without message body.\u001b[0m\n",
      "\u001b[2m2022-06-07 15:49.46\u001b[0m [\u001b[33m\u001b[1mwarning  \u001b[0m] \u001b[1mNo HTML or plain text body for 14, no HTML derivative created.\u001b[0m\n",
      "\u001b[2m2022-06-07 15:49.46\u001b[0m [\u001b[33m\u001b[1mwarning  \u001b[0m] \u001b[1mNo plain text body for 14, no TXT derivative created.\u001b[0m\n",
      "2022-06-07 15:49.48 [\u001b[96mProgress \u001b[0m] 100.0% [22 / 22 messages] 0.0s remaining\n",
      "2022-06-07 15:49.48 [\u001b[96mProgress \u001b[0m] Finished packaging mailbag.\n",
      "\u001b[0m"
     ]
    }
   ],
   "source": [
    "! mailbagit sampleData/msgs -i msg -d eml html txt -m test2 -r"
   ]
  },
  {
   "cell_type": "markdown",
   "id": "7c3166c3",
   "metadata": {},
   "source": [
    "### We got some errors!\n",
    "Dry run still creates an error report\n",
    "[Take a look a the warnings report](/tree/sampleData/msgs/test2_warnings)\n",
    "\n",
    "### Lets try it for real\n",
    "This will package all the .MSG files in `sampleData/msgs` into a mailbag called \"test2\" with EML, HTML, and plain text derivatives"
   ]
  },
  {
   "cell_type": "code",
   "execution_count": 6,
   "id": "31640b39",
   "metadata": {
    "scrolled": false
   },
   "outputs": [
    {
     "name": "stdout",
     "output_type": "stream",
     "text": [
      "\u001b[2m2022-06-07 15:50.25\u001b[0m [\u001b[33m\u001b[1mwarning  \u001b[0m] \u001b[1mMAILBAGIT_LOG_LEVEL environment variable not set or incorrect\u001b[0m\n",
      "\u001b[2m2022-06-07 15:50.29\u001b[0m [\u001b[33m\u001b[1mwarning  \u001b[0m] \u001b[1mNo body present for 14. Created EML without message body.\u001b[0m\n",
      "\u001b[2m2022-06-07 15:50.29\u001b[0m [\u001b[33m\u001b[1mwarning  \u001b[0m] \u001b[1mNo HTML or plain text body for 14, no HTML derivative created.\u001b[0m\n",
      "\u001b[2m2022-06-07 15:50.29\u001b[0m [\u001b[33m\u001b[1mwarning  \u001b[0m] \u001b[1mNo plain text body for 14, no TXT derivative created.\u001b[0m\n",
      "2022-06-07 15:50.30 [\u001b[96mProgress \u001b[0m] 100.0% [22 / 22 messages] 0.0s remaining\n",
      "2022-06-07 15:50.30 [\u001b[96mProgress \u001b[0m] Finished packaging mailbag.\n",
      "\u001b[0m"
     ]
    }
   ],
   "source": [
    "! mailbagit sampleData/msgs -i msg -d eml html txt -m test2 "
   ]
  },
  {
   "cell_type": "markdown",
   "id": "8a9db611",
   "metadata": {},
   "source": [
    "#### Make sure to reset the sample data"
   ]
  },
  {
   "cell_type": "code",
   "execution_count": 7,
   "id": "adfafab2",
   "metadata": {},
   "outputs": [],
   "source": [
    "! mv sampleData/msgs/test2/data/msg/* sampleData/msgs/"
   ]
  },
  {
   "cell_type": "markdown",
   "id": "1222cd21",
   "metadata": {},
   "source": [
    "[Checkout the mailbag](/tree/sampleData/msgs/test2)"
   ]
  },
  {
   "cell_type": "markdown",
   "id": "1a215758",
   "metadata": {},
   "source": [
    "### Lets try to make  some PDFs!\n",
    "Do a \"dry run\" first"
   ]
  },
  {
   "cell_type": "code",
   "execution_count": 8,
   "id": "c4bfd16c",
   "metadata": {},
   "outputs": [
    {
     "name": "stdout",
     "output_type": "stream",
     "text": [
      "\u001b[2m2022-06-07 15:50.55\u001b[0m [\u001b[33m\u001b[1mwarning  \u001b[0m] \u001b[1mMAILBAGIT_LOG_LEVEL environment variable not set or incorrect\u001b[0m\n",
      "\u001b[2m2022-06-07 15:50.58\u001b[0m [\u001b[33m\u001b[1mwarning  \u001b[0m] \u001b[1mNo body present for 14. Created EML without message body.\u001b[0m\n",
      "\u001b[2m2022-06-07 15:50.58\u001b[0m [\u001b[33m\u001b[1mwarning  \u001b[0m] \u001b[1mNo HTML or plain text body for 14, no PDF derivative created.\u001b[0m\n",
      "2022-06-07 15:51.00 [\u001b[96mProgress \u001b[0m] 100.0% [22 / 22 messages] 0.0s remaining\n",
      "2022-06-07 15:51.00 [\u001b[96mProgress \u001b[0m] Finished packaging mailbag.\n",
      "\u001b[0m"
     ]
    }
   ],
   "source": [
    "! mailbagit sampleData/msgs/ -i msg -d eml pdf -m test3 -r"
   ]
  },
  {
   "cell_type": "markdown",
   "id": "58a355d2",
   "metadata": {},
   "source": [
    "### Now for real!\n",
    "This will package all the msg files in `sampleData/msgs` into a mailbag named \"test3\" with EML and PDF derivatives"
   ]
  },
  {
   "cell_type": "code",
   "execution_count": 9,
   "id": "04238729",
   "metadata": {},
   "outputs": [
    {
     "name": "stdout",
     "output_type": "stream",
     "text": [
      "\u001b[2m2022-06-07 15:51.14\u001b[0m [\u001b[33m\u001b[1mwarning  \u001b[0m] \u001b[1mMAILBAGIT_LOG_LEVEL environment variable not set or incorrect\u001b[0m\n",
      "\u001b[2m2022-06-07 15:51.19\u001b[0m [\u001b[33m\u001b[1mwarning  \u001b[0m] \u001b[1mError converting to 5.pdf: Loading pages (1/6)\n",
      "[>                                                           ] 0%\n",
      "[======>                             ..\u001b[0m\n",
      "\u001b[2m2022-06-07 15:51.24\u001b[0m [\u001b[33m\u001b[1mwarning  \u001b[0m] \u001b[1mError converting to 13.pdf: Loading pages (1/6)\n",
      "[>                                                           ] 0%\n",
      "[======>                            ..\u001b[0m\n",
      "\u001b[2m2022-06-07 15:51.24\u001b[0m [\u001b[33m\u001b[1mwarning  \u001b[0m] \u001b[1mNo body present for 14. Created EML without message body.\u001b[0m\n",
      "\u001b[2m2022-06-07 15:51.24\u001b[0m [\u001b[33m\u001b[1mwarning  \u001b[0m] \u001b[1mNo HTML or plain text body for 14, no PDF derivative created.\u001b[0m\n",
      "2022-06-07 15:51.29 [\u001b[96mProgress \u001b[0m] 100.0% [22 / 22 messages] 0.0s remaining\n",
      "2022-06-07 15:51.29 [\u001b[96mProgress \u001b[0m] Finished packaging mailbag.\n",
      "\u001b[0m"
     ]
    }
   ],
   "source": [
    "! mailbagit sampleData/msgs/ -i msg -d eml pdf -m test3"
   ]
  },
  {
   "cell_type": "markdown",
   "id": "da2eb5fe",
   "metadata": {},
   "source": [
    "#### Make sure to run this after the mailbag is complete to reset the sample data"
   ]
  },
  {
   "cell_type": "code",
   "execution_count": 57,
   "id": "d9231cb5",
   "metadata": {},
   "outputs": [],
   "source": [
    "! mv sampleData/msgs/test3/data/msg/* sampleData/msgs/"
   ]
  },
  {
   "cell_type": "markdown",
   "id": "e9c41f33",
   "metadata": {},
   "source": [
    "[Looks like we got more warnings, what happened?](/tree/sampleData/msgs/test3_warnings)"
   ]
  },
  {
   "cell_type": "markdown",
   "id": "2c9af6fd",
   "metadata": {},
   "source": [
    "[Checkout the Mailbag](/tree/sampleData/msgs/test3)"
   ]
  },
  {
   "cell_type": "markdown",
   "id": "50a16153",
   "metadata": {},
   "source": [
    "### Lets try this same mailbag again, but with pdf-chrome instead\n",
    "This will again use all the MSG files in `sampleData/msgs` to make a mailbag called \"test4\" with EML and PDF derivatives made with Chrome"
   ]
  },
  {
   "cell_type": "code",
   "execution_count": 12,
   "id": "e9f85397",
   "metadata": {},
   "outputs": [
    {
     "name": "stdout",
     "output_type": "stream",
     "text": [
      "\u001b[2m2022-06-07 15:53.24\u001b[0m [\u001b[33m\u001b[1mwarning  \u001b[0m] \u001b[1mMAILBAGIT_LOG_LEVEL environment variable not set or incorrect\u001b[0m\n",
      "\u001b[2m2022-06-07 15:53.33\u001b[0m [\u001b[33m\u001b[1mwarning  \u001b[0m] \u001b[1mNo body present for 14. Created EML without message body.\u001b[0m\n",
      "\u001b[2m2022-06-07 15:53.33\u001b[0m [\u001b[33m\u001b[1mwarning  \u001b[0m] \u001b[1mNo HTML or plain text body for 14. No PDF derivative will be created.\u001b[0m\n",
      "2022-06-07 15:53.38 [\u001b[96mProgress \u001b[0m] 100.0% [22 / 22 messages] 0.0s remaining\n",
      "2022-06-07 15:53.38 [\u001b[96mProgress \u001b[0m] Finished packaging mailbag.\n",
      "\u001b[0m"
     ]
    }
   ],
   "source": [
    "! mailbagit sampleData/msgs/ -i msg -d eml pdf-chrome -m test4"
   ]
  },
  {
   "cell_type": "markdown",
   "id": "4058c0aa",
   "metadata": {},
   "source": [
    "#### reset the sample data when the mailbag is complete"
   ]
  },
  {
   "cell_type": "code",
   "execution_count": 13,
   "id": "5cf41aae",
   "metadata": {},
   "outputs": [],
   "source": [
    "! mv sampleData/msgs/test4/data/msg/* sampleData/msgs/"
   ]
  },
  {
   "cell_type": "markdown",
   "id": "e1066b85",
   "metadata": {},
   "source": [
    "No PDF warnings this time, for better or worse\n",
    "\n",
    "[Checkout the Mailbag](/tree/sampleData/msgs/test4)"
   ]
  },
  {
   "cell_type": "markdown",
   "id": "ed878121",
   "metadata": {},
   "source": [
    "### Lets try a PST"
   ]
  },
  {
   "cell_type": "code",
   "execution_count": 14,
   "id": "8bb50cbf",
   "metadata": {},
   "outputs": [
    {
     "name": "stdout",
     "output_type": "stream",
     "text": [
      "\u001b[2m2022-06-07 15:54.50\u001b[0m [\u001b[33m\u001b[1mwarning  \u001b[0m] \u001b[1mMAILBAGIT_LOG_LEVEL environment variable not set or incorrect\u001b[0m\n",
      "\u001b[2m2022-06-07 15:54.51\u001b[0m [\u001b[33m\u001b[1mwarning  \u001b[0m] \u001b[1mFolder 'SPAM Search Folder 2' contains no messages and will be ignored.\u001b[0m\n",
      "\u001b[2m2022-06-07 15:54.51\u001b[0m [\u001b[33m\u001b[1mwarning  \u001b[0m] \u001b[1mFolder 'Top of Personal Folders/Deleted Items' contains no messages and will be ignored.\u001b[0m\n",
      "2022-06-07 15:55.19 [\u001b[96mProgress \u001b[0m] 100.0% [71 / 71 messages] 0.0s remainingg\n",
      "\u001b[2m2022-06-07 15:55.19\u001b[0m [\u001b[33m\u001b[1mwarning  \u001b[0m] \u001b[1mFolder 'Search Root' contains no messages and will be ignored.\u001b[0m\n",
      "2022-06-07 15:55.19 [\u001b[96mProgress \u001b[0m] Finished packaging mailbag.\n",
      "\u001b[0m"
     ]
    }
   ],
   "source": [
    "! mailbagit sampleData/enron.pst -i pst -d eml pdf html mbox -m test5"
   ]
  },
  {
   "cell_type": "markdown",
   "id": "92c7d8ce",
   "metadata": {},
   "source": [
    "#### Reset the sample data"
   ]
  },
  {
   "cell_type": "code",
   "execution_count": 15,
   "id": "408f4426",
   "metadata": {},
   "outputs": [],
   "source": [
    "! cp sampleData/test5/data/pst/enron.pst sampleData/"
   ]
  },
  {
   "cell_type": "markdown",
   "id": "c64760e3",
   "metadata": {},
   "source": [
    "[Checkout the mailbag](/tree/sampleData/test5)"
   ]
  },
  {
   "cell_type": "markdown",
   "id": "251977be",
   "metadata": {},
   "source": [
    "### Lets make some WARCs"
   ]
  },
  {
   "cell_type": "code",
   "execution_count": 16,
   "id": "322727e1",
   "metadata": {},
   "outputs": [
    {
     "name": "stdout",
     "output_type": "stream",
     "text": [
      "\u001b[2m2022-06-07 15:55.32\u001b[0m [\u001b[33m\u001b[1mwarning  \u001b[0m] \u001b[1mMAILBAGIT_LOG_LEVEL environment variable not set or incorrect\u001b[0m\n",
      "2022-06-07 15:55.37 [\u001b[96mProgress \u001b[0m] 100.0% [331 / 331 messages] 0.0s remaining\n",
      "2022-06-07 15:55.38 [\u001b[96mProgress \u001b[0m] Finished packaging mailbag.\n",
      "\u001b[0m"
     ]
    }
   ],
   "source": [
    "! mailbagit sampleData/Inbox -i eml -d html warc -m test6"
   ]
  },
  {
   "cell_type": "markdown",
   "id": "4f3259c9",
   "metadata": {},
   "source": [
    "#### Reset the sample data"
   ]
  },
  {
   "cell_type": "code",
   "execution_count": 17,
   "id": "429944c3",
   "metadata": {},
   "outputs": [],
   "source": [
    "! cp -r sampleData/Inbox/test6/data/eml/. sampleData/Inbox"
   ]
  },
  {
   "cell_type": "markdown",
   "id": "676b6dea",
   "metadata": {},
   "source": [
    "[Checkout the mailbag](/tree/sampleData/Inbox/test6)"
   ]
  },
  {
   "cell_type": "markdown",
   "id": "4608b59c",
   "metadata": {},
   "source": [
    "### Lets try a bigger PST\n",
    "This one will take some time"
   ]
  },
  {
   "cell_type": "code",
   "execution_count": 4,
   "id": "acc9c1b2",
   "metadata": {},
   "outputs": [
    {
     "name": "stdout",
     "output_type": "stream",
     "text": [
      "\u001b[2m2022-05-27 11:34.27\u001b[0m [\u001b[33m\u001b[1mwarning  \u001b[0m] \u001b[1mMAILBAGIT_LOG_LEVEL environment variable not set or incorrect\u001b[0m\n",
      "2022-05-27 11:35.27 [\u001b[96mProgress \u001b[0m] 13.5% [75 / 557 messages] 385.38s remaining\n",
      "\u001b[2m2022-05-27 11:35.29\u001b[0m [\u001b[33m\u001b[1mwarning  \u001b[0m] \u001b[1mWARN: Error converting to 77.pdf: Loading pages (1/6)\n",
      "[>                                                           ] 0%\n",
      "[======>                      ..\u001b[0m\n",
      "2022-05-27 11:36.28 [\u001b[96mProgress \u001b[0m] 24.2% [135 / 557 messages] 375.82s remaining\n",
      "\u001b[2m2022-05-27 11:36.32\u001b[0m [\u001b[33m\u001b[1mwarning  \u001b[0m] \u001b[1mWARN: Error converting to 139.pdf: Loading pages (1/6)\n",
      "[>                                                           ] 0%\n",
      "[======>                     ..\u001b[0m\n",
      "2022-05-27 11:37.54 [\u001b[96mProgress \u001b[0m] 38.6% [215 / 557 messages] 328.4s remainingg\n",
      "\u001b[2m2022-05-27 11:37.55\u001b[0m [\u001b[31m\u001b[1merror    \u001b[0m] \u001b[1mERROR: No filename found for attachment, integer will be used instead.\u001b[0m\n",
      "\n",
      "\u001b[2m2022-05-27 11:37.55\u001b[0m [\u001b[31m\u001b[1merror    \u001b[0m] \u001b[1mERROR: Error formatting HTML for PDF derivative: TypeError('can only concatenate str (not \"NoneType\") to str')\u001b[0m\n",
      "\n",
      "\u001b[2m2022-05-27 11:37.55\u001b[0m [\u001b[31m\u001b[1merror    \u001b[0m] \u001b[1mERROR: Error writing HTML and converting to PDF derivative: UnboundLocalError(\"local variable 'html_formatted' referenced before assignment\")\u001b[0m\n",
      "2022-05-27 11:41.55 [\u001b[96mProgress \u001b[0m] 65.5% [365 / 557 messages] 235.38s remaining\n",
      "\u001b[2m2022-05-27 11:42.00\u001b[0m [\u001b[33m\u001b[1mwarning  \u001b[0m] \u001b[1mWARN: Error converting to 368.pdf: Loading pages (1/6)\n",
      "[>                                                           ] 0%\n",
      "[======>                     ..\u001b[0m\n",
      "2022-05-27 11:42.03 [\u001b[96mProgress \u001b[0m] 66.4% [370 / 557 messages] 230.47s remaining\n",
      "\u001b[2m2022-05-27 11:42.13\u001b[0m [\u001b[33m\u001b[1mwarning  \u001b[0m] \u001b[1mWARN: Error converting to 375.pdf: Loading pages (1/6)\n",
      "[>                                                           ] 0%\n",
      "[======>                     ..\u001b[0m\n",
      "2022-05-27 11:42.13 [\u001b[96mProgress \u001b[0m] 67.3% [375 / 557 messages] 225.75s remaining\n",
      "\u001b[2m2022-05-27 11:42.14\u001b[0m [\u001b[33m\u001b[1mwarning  \u001b[0m] \u001b[1mWARN: Error converting to 376.pdf: Loading pages (1/6)\n",
      "[>                                                           ] 0%\n",
      "[======>                     ..\u001b[0m\n",
      "2022-05-27 11:42.22 [\u001b[96mProgress \u001b[0m] 68.2% [380 / 557 messages] 220.95s remaining\n",
      "\u001b[2m2022-05-27 11:42.32\u001b[0m [\u001b[33m\u001b[1mwarning  \u001b[0m] \u001b[1mWARN: Error converting to 385.pdf: Loading pages (1/6)\n",
      "[>                                                           ] 0%\n",
      "[======>                     ..\u001b[0m\n",
      "2022-05-27 11:42.32 [\u001b[96mProgress \u001b[0m] 69.1% [385 / 557 messages] 216.29s remaining\n",
      "\u001b[2m2022-05-27 11:42.35\u001b[0m [\u001b[33m\u001b[1mwarning  \u001b[0m] \u001b[1mWARN: Error converting to 387.pdf: Loading pages (1/6)\n",
      "[>                                                           ] 0%\n",
      "[======>                     ..\u001b[0m\n",
      "2022-05-27 11:43.11 [\u001b[96mProgress \u001b[0m] 72.7% [405 / 557 messages] 196.46s remaining\n",
      "\u001b[2m2022-05-27 11:43.20\u001b[0m [\u001b[33m\u001b[1mwarning  \u001b[0m] \u001b[1mWARN: Error converting to 409.pdf: Loading pages (1/6)\n",
      "[>                                                           ] 0%\n",
      "[======>                     ..\u001b[0m\n",
      "2022-05-27 11:43.56 [\u001b[96mProgress \u001b[0m] 76.3% [425 / 557 messages] 176.53s remaining\n",
      "\u001b[2m2022-05-27 11:43.58\u001b[0m [\u001b[33m\u001b[1mwarning  \u001b[0m] \u001b[1mWARN: Error converting to 426.pdf: Loading pages (1/6)\n",
      "[>                                                           ] 0%\n",
      "[======>                     ..\u001b[0m\n",
      "2022-05-27 11:45.01 [\u001b[96mProgress \u001b[0m] 81.7% [455 / 557 messages] 142.14s remaining\n",
      "\u001b[2m2022-05-27 11:45.13\u001b[0m [\u001b[33m\u001b[1mwarning  \u001b[0m] \u001b[1mWARN: Error converting to 460.pdf: Loading pages (1/6)\n",
      "[>                                                           ] 0%\n",
      "[======>                     ..\u001b[0m\n",
      "2022-05-27 11:45.50 [\u001b[96mProgress \u001b[0m] 85.3% [475 / 557 messages] 117.89s remaining\n",
      "\u001b[2m2022-05-27 11:45.57\u001b[0m [\u001b[33m\u001b[1mwarning  \u001b[0m] \u001b[1mWARN: Error converting to 478.pdf: Loading pages (1/6)\n",
      "[>                                                           ] 0%\n",
      "[======>                     ..\u001b[0m\n",
      "2022-05-27 11:46.02 [\u001b[96mProgress \u001b[0m] 86.2% [480 / 557 messages] 111.5s remaining\n",
      "\u001b[2m2022-05-27 11:46.09\u001b[0m [\u001b[33m\u001b[1mwarning  \u001b[0m] \u001b[1mWARN: Error converting to 483.pdf: Loading pages (1/6)\n",
      "[>                                                           ] 0%\n",
      "[======>                     ..\u001b[0m\n",
      "2022-05-27 11:46.14 [\u001b[96mProgress \u001b[0m] 87.1% [485 / 557 messages] 104.96s remaining\n",
      "\u001b[2m2022-05-27 11:46.17\u001b[0m [\u001b[31m\u001b[1merror    \u001b[0m] \u001b[1mERROR: No filename found for attachment, integer will be used instead.\u001b[0m\n",
      "\n",
      "\u001b[2m2022-05-27 11:46.19\u001b[0m [\u001b[31m\u001b[1merror    \u001b[0m] \u001b[1mERROR: Error formatting HTML for PDF derivative: TypeError('can only concatenate str (not \"NoneType\") to str')\u001b[0m\n",
      "\n",
      "\u001b[2m2022-05-27 11:46.19\u001b[0m [\u001b[31m\u001b[1merror    \u001b[0m] \u001b[1mERROR: Error writing HTML and converting to PDF derivative: UnboundLocalError(\"local variable 'html_formatted' referenced before assignment\")\u001b[0m\n",
      "\n",
      "\u001b[2m2022-05-27 11:46.26\u001b[0m [\u001b[33m\u001b[1mwarning  \u001b[0m] \u001b[1mWARN: Error converting to 490.pdf: Loading pages (1/6)\n",
      "[>                                                           ] 0%\n",
      "[======>                     ..\u001b[0m\n",
      "2022-05-27 11:46.26 [\u001b[96mProgress \u001b[0m] 88.0% [490 / 557 messages] 98.24s remaining\n",
      "\u001b[2m2022-05-27 11:46.36\u001b[0m [\u001b[33m\u001b[1mwarning  \u001b[0m] \u001b[1mWARN: Error converting to 494.pdf: Loading pages (1/6)\n",
      "[>                                                           ] 0%\n",
      "[======>                     ..\u001b[0m\n",
      "2022-05-27 11:46.51 [\u001b[96mProgress \u001b[0m] 89.8% [500 / 557 messages] 84.75s remaining\n",
      "\u001b[2m2022-05-27 11:47.03\u001b[0m [\u001b[33m\u001b[1mwarning  \u001b[0m] \u001b[1mWARN: Error converting to 505.pdf: Loading pages (1/6)\n",
      "[>                                                           ] 0%\n",
      "[======>                     ..\u001b[0m\n",
      "2022-05-27 11:47.03 [\u001b[96mProgress \u001b[0m] 90.7% [505 / 557 messages] 77.78s remaining\n",
      "\u001b[2m2022-05-27 11:47.08\u001b[0m [\u001b[31m\u001b[1merror    \u001b[0m] \u001b[1mERROR: No filename found for attachment, integer will be used instead.\u001b[0m\n",
      "\n",
      "\u001b[2m2022-05-27 11:47.10\u001b[0m [\u001b[31m\u001b[1merror    \u001b[0m] \u001b[1mERROR: Error formatting HTML for PDF derivative: TypeError('can only concatenate str (not \"NoneType\") to str')\u001b[0m\n",
      "\n",
      "\u001b[2m2022-05-27 11:47.10\u001b[0m [\u001b[31m\u001b[1merror    \u001b[0m] \u001b[1mERROR: Error writing HTML and converting to PDF derivative: UnboundLocalError(\"local variable 'html_formatted' referenced before assignment\")\u001b[0m\n",
      "2022-05-27 11:47.28 [\u001b[96mProgress \u001b[0m] 92.5% [515 / 557 messages] 63.64s remaining\n",
      "\u001b[2m2022-05-27 11:47.36\u001b[0m [\u001b[33m\u001b[1mwarning  \u001b[0m] \u001b[1mWARN: Error converting to 518.pdf: Loading pages (1/6)\n",
      "[>                                                           ] 0%\n",
      "[======>                     ..\u001b[0m\n",
      "2022-05-27 11:47.41 [\u001b[96mProgress \u001b[0m] 93.4% [520 / 557 messages] 56.48s remaining\n",
      "\u001b[2m2022-05-27 11:47.44\u001b[0m [\u001b[33m\u001b[1mwarning  \u001b[0m] \u001b[1mWARN: Error converting to 521.pdf: Loading pages (1/6)\n",
      "[>                                                           ] 0%\n",
      "[======>                     ..\u001b[0m\n",
      "2022-05-27 11:48.07 [\u001b[96mProgress \u001b[0m] 95.2% [530 / 557 messages] 41.78s remaining\n",
      "\u001b[2m2022-05-27 11:48.14\u001b[0m [\u001b[33m\u001b[1mwarning  \u001b[0m] \u001b[1mWARN: Error converting to 532.pdf: Loading pages (1/6)\n",
      "[>                                                           ] 0%\n",
      "[======>                     ..\u001b[0m\n",
      "2022-05-27 11:48.22 [\u001b[96mProgress \u001b[0m] 96.1% [535 / 557 messages] 34.33s remaining\n",
      "\u001b[2m2022-05-27 11:48.36\u001b[0m [\u001b[33m\u001b[1mwarning  \u001b[0m] \u001b[1mWARN: Error converting to 540.pdf: Loading pages (1/6)\n",
      "[>                                                           ] 0%\n",
      "[======>                     ..\u001b[0m\n",
      "2022-05-27 11:49.04 [\u001b[96mProgress \u001b[0m] 98.7% [550 / 557 messages] 11.16s remaining\n",
      "\u001b[2m2022-05-27 11:49.09\u001b[0m [\u001b[33m\u001b[1mwarning  \u001b[0m] \u001b[1mWARN: Error converting to 552.pdf: Loading pages (1/6)\n",
      "[>                                                           ] 0%\n",
      "[======>                     ..\u001b[0m\n",
      "\n",
      "\u001b[2m2022-05-27 11:49.12\u001b[0m [\u001b[33m\u001b[1mwarning  \u001b[0m] \u001b[1mWARN: Error converting to 553.pdf: Loading pages (1/6)\n",
      "[>                                                           ] 0%\n",
      "[======>                     ..\u001b[0m\n",
      "2022-05-27 11:49.24 [\u001b[96mProgress \u001b[0m] 100.0% [557 / 557 messages] 0.0s remaining\n",
      "2022-05-27 11:49.28 [\u001b[96mProgress \u001b[0m] Finished packaging mailbag.\n"
     ]
    }
   ],
   "source": [
    "! mailbagit sampleData/allfacstaff.pst -i pst -d eml mbox html pdf -m test7"
   ]
  },
  {
   "cell_type": "markdown",
   "id": "0bbe50be",
   "metadata": {},
   "source": [
    "#### Reset the sample data"
   ]
  },
  {
   "cell_type": "code",
   "execution_count": null,
   "id": "b672095e",
   "metadata": {},
   "outputs": [],
   "source": [
    "! cp sampleData/test7/data/pst/allfacstaff.pst sampleData/"
   ]
  },
  {
   "cell_type": "markdown",
   "id": "7005125d",
   "metadata": {},
   "source": [
    "[View the error report](/tree/sampleData/test7_errors)"
   ]
  },
  {
   "cell_type": "markdown",
   "id": "5a826c1c",
   "metadata": {},
   "source": [
    "[Checkout the mailbag](/tree/sampleData/test7)"
   ]
  }
 ],
 "metadata": {
  "kernelspec": {
   "display_name": "Python 3 (ipykernel)",
   "language": "python",
   "name": "python3"
  },
  "language_info": {
   "codemirror_mode": {
    "name": "ipython",
    "version": 3
   },
   "file_extension": ".py",
   "mimetype": "text/x-python",
   "name": "python",
   "nbconvert_exporter": "python",
   "pygments_lexer": "ipython3",
   "version": "3.8.10"
  }
 },
 "nbformat": 4,
 "nbformat_minor": 5
}
