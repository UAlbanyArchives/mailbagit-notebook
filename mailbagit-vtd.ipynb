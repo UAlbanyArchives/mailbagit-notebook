{
 "cells": [
  {
   "cell_type": "markdown",
   "id": "e6427e01",
   "metadata": {},
   "source": [
    "# Mailbagit testing notebook"
   ]
  },
  {
   "cell_type": "markdown",
   "id": "01feafec",
   "metadata": {},
   "source": [
    "### We have some sample data, lets explore it to get out bearings\n",
    "\n",
    "[View the sample data](/tree/sampleData)"
   ]
  },
  {
   "cell_type": "markdown",
   "id": "6c7b1261",
   "metadata": {},
   "source": [
    "### Lets make sure we have mailbagit installed"
   ]
  },
  {
   "cell_type": "code",
   "execution_count": 31,
   "id": "8ce0bdb9",
   "metadata": {},
   "outputs": [
    {
     "name": "stdout",
     "output_type": "stream",
     "text": [
      "\u001b[2m2022-05-27 10:44.45\u001b[0m [\u001b[33m\u001b[1mwarning  \u001b[0m] \u001b[1mMAILBAGIT_LOG_LEVEL environment variable not set or incorrect\u001b[0m\n",
      "usage: mailbagit [-h] [--processes PROCESSES] [--sha3_224] [--shake_128]\n",
      "                 [--blake2s] [--md5] [--sha384] [--sha1] [--sha224] [--sha512]\n",
      "                 [--sha3_512] [--shake_256] [--sha256] [--sha3_256]\n",
      "                 [--blake2b] [--sha3_384]\n",
      "                 [--source-organization SOURCE_ORGANIZATION]\n",
      "                 [--organization-address ORGANIZATION_ADDRESS]\n",
      "                 [--contact-name CONTACT_NAME] [--contact-phone CONTACT_PHONE]\n",
      "                 [--contact-email CONTACT_EMAIL]\n",
      "                 [--external-description EXTERNAL_DESCRIPTION]\n",
      "                 [--external-identifier EXTERNAL_IDENTIFIER]\n",
      "                 [--bag-size BAG_SIZE]\n",
      "                 [--bag-group-identifier BAG_GROUP_IDENTIFIER]\n",
      "                 [--bag-count BAG_COUNT]\n",
      "                 [--internal-sender-identifier INTERNAL_SENDER_IDENTIFIER]\n",
      "                 [--internal-sender-description INTERNAL_SENDER_DESCRIPTION]\n",
      "                 [--bagit-profile-identifier BAGIT_PROFILE_IDENTIFIER] -m\n",
      "                 MAILBAG_NAME -i {eml,mbox,msg,pst}\n",
      "                 [-d {eml,html,mbox,pdf-chrome,pdf,txt,warc} [{eml,html,mbox,pdf-chrome,pdf,txt,warc} ...]]\n",
      "                 [--css CSS] [-c {tar,zip,tar.gz}] [-r] [-f]\n",
      "                 [--capture-date CAPTURE_DATE] [--capture-agent CAPTURE_AGENT]\n",
      "                 [--capture-agent-version CAPTURE_AGENT_VERSION]\n",
      "                 path\n",
      "\n",
      "Mailbagit\n",
      "\n",
      "optional arguments:\n",
      "  -h, --help            show this help message and exit\n",
      "\n",
      "Mailbagit arguments:\n",
      "  path                  A path to email to be packaged into a mailbag. This\n",
      "                        can be a single file or a directory containing a\n",
      "                        number of email exports.\n",
      "  -m MAILBAG_NAME, --mailbag_name MAILBAG_NAME\n",
      "                        A directory name for the mailbag root directory.\n",
      "  -i {eml,mbox,msg,pst}, --input {eml,mbox,msg,pst}\n",
      "                        The email export format to be packaged.\n",
      "  -d {eml,html,mbox,pdf-chrome,pdf,txt,warc} [{eml,html,mbox,pdf-chrome,pdf,txt,warc} ...], --derivatives {eml,html,mbox,pdf-chrome,pdf,txt,warc} [{eml,html,mbox,pdf-chrome,pdf,txt,warc} ...]\n",
      "                        types of derivative formats to create during packaging\n",
      "\n",
      "Mailbagit options:\n",
      "  --css CSS             Path to a CSS file to customize PDF derivatives.\n",
      "  -c {tar,zip,tar.gz}, --compress {tar,zip,tar.gz}\n",
      "                        Compress the mailbag as ZIP, TAR, or TAR.GZ.\n",
      "  -r, --dry_run         A dry run performs a trial run with no changes made.\n",
      "  -f, --companion_files\n",
      "                        Will copy all files in the path provided to mailbagit\n",
      "                        in to a mailbag regardless of extention.\n",
      "\n",
      "Optional Mailbag Metadata:\n",
      "  --capture-date CAPTURE_DATE\n",
      "                        Timestamp denoting when the email included in a\n",
      "                        mailbag was originally captured.\n",
      "  --capture-agent CAPTURE_AGENT\n",
      "                        A string field describing the agent used to capture\n",
      "                        the email included in a mailbag.\n",
      "  --capture-agent-version CAPTURE_AGENT_VERSION\n",
      "                        A string field describing the version of the agent\n",
      "                        used to capture the email included in a mailbag.\n",
      "\n",
      "Optional Arguments:\n",
      "  --processes PROCESSES\n",
      "                        Use multiple processes to calculate checksums faster\n",
      "                        (default: 1)\n",
      "\n",
      "Checksum Algorithms:\n",
      "  Select the manifest algorithms to be used when creating bags\n",
      "  (default=sha256, sha512)\n",
      "\n",
      "  --sha3_224            Generate SHA3_224 manifest when creating a bag\n",
      "  --shake_128           Generate SHAKE_128 manifest when creating a bag\n",
      "  --blake2s             Generate BLAKE2S manifest when creating a bag\n",
      "  --md5                 Generate MD-5 manifest when creating a bag\n",
      "  --sha384              Generate SHA-384 manifest when creating a bag\n",
      "  --sha1                Generate SHA-1 manifest when creating a bag\n",
      "  --sha224              Generate SHA-224 manifest when creating a bag\n",
      "  --sha512              Generate SHA-512 manifest when creating a bag\n",
      "  --sha3_512            Generate SHA3_512 manifest when creating a bag\n",
      "  --shake_256           Generate SHAKE_256 manifest when creating a bag\n",
      "  --sha256              Generate SHA-256 manifest when creating a bag\n",
      "  --sha3_256            Generate SHA3_256 manifest when creating a bag\n",
      "  --blake2b             Generate BLAKE2B manifest when creating a bag\n",
      "  --sha3_384            Generate SHA3_384 manifest when creating a bag\n",
      "\n",
      "Optional Bag Metadata:\n",
      "  --source-organization SOURCE_ORGANIZATION\n",
      "  --organization-address ORGANIZATION_ADDRESS\n",
      "  --contact-name CONTACT_NAME\n",
      "  --contact-phone CONTACT_PHONE\n",
      "  --contact-email CONTACT_EMAIL\n",
      "  --external-description EXTERNAL_DESCRIPTION\n",
      "  --external-identifier EXTERNAL_IDENTIFIER\n",
      "  --bag-size BAG_SIZE\n",
      "  --bag-group-identifier BAG_GROUP_IDENTIFIER\n",
      "  --bag-count BAG_COUNT\n",
      "  --internal-sender-identifier INTERNAL_SENDER_IDENTIFIER\n",
      "  --internal-sender-description INTERNAL_SENDER_DESCRIPTION\n",
      "  --bagit-profile-identifier BAGIT_PROFILE_IDENTIFIER\n"
     ]
    }
   ],
   "source": [
    "! mailbagit -h"
   ]
  },
  {
   "cell_type": "markdown",
   "id": "3be75cb5",
   "metadata": {},
   "source": [
    "### Try a \"dry run\"\n",
    "This would package `account.mbox` into a mailbag called \"test1\" with HTML and EML derivatives"
   ]
  },
  {
   "cell_type": "code",
   "execution_count": 32,
   "id": "e982541b",
   "metadata": {
    "scrolled": false
   },
   "outputs": [
    {
     "name": "stdout",
     "output_type": "stream",
     "text": [
      "\u001b[2m2022-05-27 10:45.05\u001b[0m [\u001b[33m\u001b[1mwarning  \u001b[0m] \u001b[1mMAILBAGIT_LOG_LEVEL environment variable not set or incorrect\u001b[0m\n",
      "2022-05-27 10:45.10 [\u001b[96mProgress \u001b[0m] 100.0% [331 / 331 messages] 0.0s remaining\n",
      "2022-05-27 10:45.10 [\u001b[96mProgress \u001b[0m] Finished packaging mailbag.\n"
     ]
    }
   ],
   "source": [
    "! mailbagit sampleData/account.mbox -i mbox -d html eml -m test1 -r"
   ]
  },
  {
   "cell_type": "markdown",
   "id": "937ed6fa",
   "metadata": {},
   "source": [
    "### Try it for real!\n",
    "This will actually create the mailbag"
   ]
  },
  {
   "cell_type": "code",
   "execution_count": 33,
   "id": "600af71a",
   "metadata": {
    "scrolled": true
   },
   "outputs": [
    {
     "name": "stdout",
     "output_type": "stream",
     "text": [
      "\u001b[2m2022-05-27 10:45.23\u001b[0m [\u001b[33m\u001b[1mwarning  \u001b[0m] \u001b[1mMAILBAGIT_LOG_LEVEL environment variable not set or incorrect\u001b[0m\n",
      "2022-05-27 10:45.28 [\u001b[96mProgress \u001b[0m] 100.0% [331 / 331 messages] 0.0s remaining\n",
      "2022-05-27 10:45.28 [\u001b[96mProgress \u001b[0m] Finished packaging mailbag.\n"
     ]
    }
   ],
   "source": [
    "! mailbagit sampleData/account.mbox -i mbox -d html eml -m test1"
   ]
  },
  {
   "cell_type": "markdown",
   "id": "bb58dfc2",
   "metadata": {},
   "source": [
    "#### Make sure to run this to reset the sample data"
   ]
  },
  {
   "cell_type": "code",
   "execution_count": 34,
   "id": "7b390f40",
   "metadata": {},
   "outputs": [],
   "source": [
    "! cp sampleData/test1/data/mbox/account.mbox sampleData/"
   ]
  },
  {
   "cell_type": "markdown",
   "id": "3c1edbe0",
   "metadata": {},
   "source": [
    "[Checkout the mailbag!](/tree/sampleData/test1)"
   ]
  },
  {
   "cell_type": "markdown",
   "id": "f5c2192e",
   "metadata": {},
   "source": [
    "### Lets try a some MSG files\n",
    "Do a \"dry run\" first again"
   ]
  },
  {
   "cell_type": "code",
   "execution_count": 50,
   "id": "460f01e5",
   "metadata": {},
   "outputs": [
    {
     "name": "stdout",
     "output_type": "stream",
     "text": [
      "\u001b[2m2022-05-27 10:59.11\u001b[0m [\u001b[33m\u001b[1mwarning  \u001b[0m] \u001b[1mMAILBAGIT_LOG_LEVEL environment variable not set or incorrect\u001b[0m\n",
      "2022-05-27 10:59.13 [\u001b[96mProgress \u001b[0m] 59.1% [13 / 22 messages] 1.68s remaining\n",
      "\u001b[2m2022-05-27 10:59.13\u001b[0m [\u001b[33m\u001b[1mwarning  \u001b[0m] \u001b[1mWARN: No body present for 14. Created EML without message body.\u001b[0m\n",
      "\n",
      "\u001b[2m2022-05-27 10:59.13\u001b[0m [\u001b[33m\u001b[1mwarning  \u001b[0m] \u001b[1mWARN: No HTML or plain text body for 14, no HTML derivative created.\u001b[0m\n",
      "\n",
      "\u001b[2m2022-05-27 10:59.13\u001b[0m [\u001b[33m\u001b[1mwarning  \u001b[0m] \u001b[1mWARN: No plain text body for 14, no TXT derivative created.\u001b[0m\n",
      "2022-05-27 10:59.15 [\u001b[96mProgress \u001b[0m] 100.0% [22 / 22 messages] 0.0s remaining\n",
      "2022-05-27 10:59.15 [\u001b[96mProgress \u001b[0m] Finished packaging mailbag.\n"
     ]
    }
   ],
   "source": [
    "! mailbagit sampleData/msgs -i msg -d eml html txt -m test2 -r"
   ]
  },
  {
   "cell_type": "markdown",
   "id": "7c3166c3",
   "metadata": {},
   "source": [
    "### We got some errors!\n",
    "Dry run still creates an error report\n",
    "[Take a look a the error report](/tree/sampleData/msgs/test2_errors)\n",
    "\n",
    "### Lets try it for real\n",
    "This will package all the .MSG files in `sampleData/msgs` into a mailbag called \"test2\" with EML, HTML, and plain text derivatives"
   ]
  },
  {
   "cell_type": "code",
   "execution_count": 51,
   "id": "31640b39",
   "metadata": {
    "scrolled": false
   },
   "outputs": [
    {
     "name": "stdout",
     "output_type": "stream",
     "text": [
      "\u001b[2m2022-05-27 10:59.18\u001b[0m [\u001b[33m\u001b[1mwarning  \u001b[0m] \u001b[1mMAILBAGIT_LOG_LEVEL environment variable not set or incorrect\u001b[0m\n",
      "2022-05-27 10:59.21 [\u001b[96mProgress \u001b[0m] 59.1% [13 / 22 messages] 2.07s remaining\n",
      "\u001b[2m2022-05-27 10:59.21\u001b[0m [\u001b[33m\u001b[1mwarning  \u001b[0m] \u001b[1mWARN: No body present for 14. Created EML without message body.\u001b[0m\n",
      "\n",
      "\u001b[2m2022-05-27 10:59.21\u001b[0m [\u001b[33m\u001b[1mwarning  \u001b[0m] \u001b[1mWARN: No HTML or plain text body for 14, no HTML derivative created.\u001b[0m\n",
      "\n",
      "\u001b[2m2022-05-27 10:59.21\u001b[0m [\u001b[33m\u001b[1mwarning  \u001b[0m] \u001b[1mWARN: No plain text body for 14, no TXT derivative created.\u001b[0m\n",
      "2022-05-27 10:59.23 [\u001b[96mProgress \u001b[0m] 100.0% [22 / 22 messages] 0.0s remaining\n",
      "2022-05-27 10:59.23 [\u001b[96mProgress \u001b[0m] Finished packaging mailbag.\n"
     ]
    }
   ],
   "source": [
    "! mailbagit sampleData/msgs -i msg -d eml html txt -m test2 "
   ]
  },
  {
   "cell_type": "markdown",
   "id": "8a9db611",
   "metadata": {},
   "source": [
    "#### Make sure to reset the sample data"
   ]
  },
  {
   "cell_type": "code",
   "execution_count": 53,
   "id": "adfafab2",
   "metadata": {},
   "outputs": [],
   "source": [
    "! mv sampleData/msgs/test2/data/msg/* sampleData/msgs/"
   ]
  },
  {
   "cell_type": "markdown",
   "id": "1222cd21",
   "metadata": {},
   "source": [
    "[Checkout the mailbag](/tree/sampleData/msgs/test2)"
   ]
  },
  {
   "cell_type": "markdown",
   "id": "1a215758",
   "metadata": {},
   "source": [
    "### Lets try to make  some PDFs!\n",
    "Do a \"dry run\" first"
   ]
  },
  {
   "cell_type": "code",
   "execution_count": 54,
   "id": "c4bfd16c",
   "metadata": {},
   "outputs": [
    {
     "name": "stdout",
     "output_type": "stream",
     "text": [
      "\u001b[2m2022-05-27 11:00.31\u001b[0m [\u001b[33m\u001b[1mwarning  \u001b[0m] \u001b[1mMAILBAGIT_LOG_LEVEL environment variable not set or incorrect\u001b[0m\n",
      "2022-05-27 11:00.34 [\u001b[96mProgress \u001b[0m] 59.1% [13 / 22 messages] 1.72s remaining\n",
      "\u001b[2m2022-05-27 11:00.34\u001b[0m [\u001b[33m\u001b[1mwarning  \u001b[0m] \u001b[1mWARN: No body present for 14. Created EML without message body.\u001b[0m\n",
      "\n",
      "\u001b[2m2022-05-27 11:00.34\u001b[0m [\u001b[33m\u001b[1mwarning  \u001b[0m] \u001b[1mWARN: No HTML or plain text body for 14, no PDF derivative created.\u001b[0m\n",
      "2022-05-27 11:00.35 [\u001b[96mProgress \u001b[0m] 100.0% [22 / 22 messages] 0.0s remaining\n",
      "2022-05-27 11:00.35 [\u001b[96mProgress \u001b[0m] Finished packaging mailbag.\n"
     ]
    }
   ],
   "source": [
    "! mailbagit sampleData/msgs/ -i msg -d eml pdf -m test3 -r"
   ]
  },
  {
   "cell_type": "markdown",
   "id": "58a355d2",
   "metadata": {},
   "source": [
    "### Now for real!\n",
    "This will package all the msg files in `sampleData/msgs` into a mailbag named \"test3\" with EML and PDF derivatives"
   ]
  },
  {
   "cell_type": "code",
   "execution_count": 55,
   "id": "04238729",
   "metadata": {},
   "outputs": [
    {
     "name": "stdout",
     "output_type": "stream",
     "text": [
      "\u001b[2m2022-05-27 11:00.38\u001b[0m [\u001b[33m\u001b[1mwarning  \u001b[0m] \u001b[1mMAILBAGIT_LOG_LEVEL environment variable not set or incorrect\u001b[0m\n",
      "2022-05-27 11:00.42 [\u001b[96mProgress \u001b[0m] 18.2% [4 / 22 messages] 13.97s remaining\n",
      "\u001b[2m2022-05-27 11:00.42\u001b[0m [\u001b[33m\u001b[1mwarning  \u001b[0m] \u001b[1mWARN: Error converting to 5.pdf: Loading pages (1/6)\n",
      "[>                                                           ] 0%\n",
      "[======>                       ..\u001b[0m\n",
      "2022-05-27 11:00.47 [\u001b[96mProgress \u001b[0m] 54.5% [12 / 22 messages] 7.04s remaining\n",
      "\u001b[2m2022-05-27 11:00.48\u001b[0m [\u001b[33m\u001b[1mwarning  \u001b[0m] \u001b[1mWARN: Error converting to 13.pdf: Loading pages (1/6)\n",
      "[>                                                           ] 0%\n",
      "[======>                      ..\u001b[0m\n",
      "2022-05-27 11:00.48 [\u001b[96mProgress \u001b[0m] 59.1% [13 / 22 messages] 6.29s remaining\n",
      "\u001b[2m2022-05-27 11:00.48\u001b[0m [\u001b[33m\u001b[1mwarning  \u001b[0m] \u001b[1mWARN: No body present for 14. Created EML without message body.\u001b[0m\n",
      "\n",
      "\u001b[2m2022-05-27 11:00.48\u001b[0m [\u001b[33m\u001b[1mwarning  \u001b[0m] \u001b[1mWARN: No HTML or plain text body for 14, no PDF derivative created.\u001b[0m\n",
      "2022-05-27 11:00.53 [\u001b[96mProgress \u001b[0m] 100.0% [22 / 22 messages] 0.0s remaining\n",
      "2022-05-27 11:00.53 [\u001b[96mProgress \u001b[0m] Finished packaging mailbag.\n"
     ]
    }
   ],
   "source": [
    "! mailbagit sampleData/msgs/ -i msg -d eml pdf -m test3"
   ]
  },
  {
   "cell_type": "markdown",
   "id": "da2eb5fe",
   "metadata": {},
   "source": [
    "#### Make sure to run this after the mailbag is complete to reset the sample data"
   ]
  },
  {
   "cell_type": "code",
   "execution_count": 57,
   "id": "d9231cb5",
   "metadata": {},
   "outputs": [],
   "source": [
    "! mv sampleData/msgs/test3/data/msg/* sampleData/msgs/"
   ]
  },
  {
   "cell_type": "markdown",
   "id": "e9c41f33",
   "metadata": {},
   "source": [
    "[Looks like we got more warnings, what happened?](/tree/sampleData/msgs/test3_errors)"
   ]
  },
  {
   "cell_type": "markdown",
   "id": "2c9af6fd",
   "metadata": {},
   "source": [
    "[Checkout the Mailbag](/tree/sampleData/msgs/test3)"
   ]
  },
  {
   "cell_type": "markdown",
   "id": "50a16153",
   "metadata": {},
   "source": [
    "### Lets try this same mailbag again, but with pdf-chrome instead\n",
    "This will again use all the MSG files in `sampleData/msgs` to make a mailbag called \"test4\" with EML and PDF derivatives made with Chrome"
   ]
  },
  {
   "cell_type": "code",
   "execution_count": 58,
   "id": "e9f85397",
   "metadata": {},
   "outputs": [
    {
     "name": "stdout",
     "output_type": "stream",
     "text": [
      "\u001b[2m2022-05-27 11:01.13\u001b[0m [\u001b[33m\u001b[1mwarning  \u001b[0m] \u001b[1mMAILBAGIT_LOG_LEVEL environment variable not set or incorrect\u001b[0m\n",
      "2022-05-27 11:01.22 [\u001b[96mProgress \u001b[0m] 59.1% [13 / 22 messages] 6.38s remaining\n",
      "\u001b[2m2022-05-27 11:01.22\u001b[0m [\u001b[33m\u001b[1mwarning  \u001b[0m] \u001b[1mWARN: No body present for 14. Created EML without message body.\u001b[0m\n",
      "\u001b[2m2022-05-27 11:01.22\u001b[0m [\u001b[33m\u001b[1mwarning  \u001b[0m] \u001b[1mNo HTML or plain text body for 14. No PDF derivative will be created.\u001b[0m\n",
      "2022-05-27 11:01.27 [\u001b[96mProgress \u001b[0m] 100.0% [22 / 22 messages] 0.0s remaining\n",
      "2022-05-27 11:01.28 [\u001b[96mProgress \u001b[0m] Finished packaging mailbag.\n"
     ]
    }
   ],
   "source": [
    "! mailbagit sampleData/msgs/ -i msg -d eml pdf-chrome -m test4"
   ]
  },
  {
   "cell_type": "markdown",
   "id": "4058c0aa",
   "metadata": {},
   "source": [
    "#### reset the sample data when the mailbag is complete"
   ]
  },
  {
   "cell_type": "code",
   "execution_count": 59,
   "id": "5cf41aae",
   "metadata": {},
   "outputs": [],
   "source": [
    "! mv sampleData/msgs/test4/data/msg/* sampleData/msgs/"
   ]
  },
  {
   "cell_type": "markdown",
   "id": "e1066b85",
   "metadata": {},
   "source": [
    "No warnings this time, for better or worse\n",
    "\n",
    "[Checkout the Mailbag](/tree/sampleData/msgs/test4)"
   ]
  },
  {
   "cell_type": "markdown",
   "id": "ed878121",
   "metadata": {},
   "source": [
    "### Lets try a PST"
   ]
  },
  {
   "cell_type": "code",
   "execution_count": 61,
   "id": "8bb50cbf",
   "metadata": {},
   "outputs": [
    {
     "name": "stdout",
     "output_type": "stream",
     "text": [
      "\u001b[2m2022-05-27 11:03.23\u001b[0m [\u001b[33m\u001b[1mwarning  \u001b[0m] \u001b[1mMAILBAGIT_LOG_LEVEL environment variable not set or incorrect\u001b[0m\n",
      "2022-05-27 11:03.51 [\u001b[96mProgress \u001b[0m] 100.0% [71 / 71 messages] 0.0s remainingg\n",
      "2022-05-27 11:03.51 [\u001b[96mProgress \u001b[0m] Finished packaging mailbag.\n"
     ]
    }
   ],
   "source": [
    "! mailbagit sampleData/enron.pst -i pst -d eml pdf html mbox -m test5"
   ]
  },
  {
   "cell_type": "markdown",
   "id": "92c7d8ce",
   "metadata": {},
   "source": [
    "#### Reset the sample data"
   ]
  },
  {
   "cell_type": "code",
   "execution_count": 62,
   "id": "408f4426",
   "metadata": {},
   "outputs": [],
   "source": [
    "! cp sampleData/test5/data/pst/enron.pst sampleData/"
   ]
  },
  {
   "cell_type": "markdown",
   "id": "c64760e3",
   "metadata": {},
   "source": [
    "[Checkout the mailbag](/tree/sampleData/test5)"
   ]
  },
  {
   "cell_type": "markdown",
   "id": "251977be",
   "metadata": {},
   "source": [
    "### Lets make some WARCs"
   ]
  },
  {
   "cell_type": "code",
   "execution_count": 64,
   "id": "322727e1",
   "metadata": {},
   "outputs": [
    {
     "name": "stdout",
     "output_type": "stream",
     "text": [
      "\u001b[2m2022-05-27 11:07.54\u001b[0m [\u001b[33m\u001b[1mwarning  \u001b[0m] \u001b[1mMAILBAGIT_LOG_LEVEL environment variable not set or incorrect\u001b[0m\n",
      "2022-05-27 11:08.00 [\u001b[96mProgress \u001b[0m] 100.0% [331 / 331 messages] 0.0s remaining\n",
      "2022-05-27 11:08.00 [\u001b[96mProgress \u001b[0m] Finished packaging mailbag.\n"
     ]
    }
   ],
   "source": [
    "! mailbagit sampleData/Inbox -i eml -d html warc -m test6"
   ]
  },
  {
   "cell_type": "markdown",
   "id": "4f3259c9",
   "metadata": {},
   "source": [
    "#### Reset the sample data"
   ]
  },
  {
   "cell_type": "code",
   "execution_count": 65,
   "id": "429944c3",
   "metadata": {},
   "outputs": [],
   "source": [
    "! cp -r sampleData/Inbox/test6/data/eml/. sampleData/Inbox"
   ]
  },
  {
   "cell_type": "markdown",
   "id": "676b6dea",
   "metadata": {},
   "source": [
    "[Checkout the mailbag](/tree/sampleData/Inbox/test6)"
   ]
  },
  {
   "cell_type": "markdown",
   "id": "4608b59c",
   "metadata": {},
   "source": [
    "### Lets try a bigger PST\n",
    "This one will take some time"
   ]
  },
  {
   "cell_type": "code",
   "execution_count": 4,
   "id": "acc9c1b2",
   "metadata": {},
   "outputs": [
    {
     "name": "stdout",
     "output_type": "stream",
     "text": [
      "\u001b[2m2022-05-27 11:34.27\u001b[0m [\u001b[33m\u001b[1mwarning  \u001b[0m] \u001b[1mMAILBAGIT_LOG_LEVEL environment variable not set or incorrect\u001b[0m\n",
      "2022-05-27 11:35.27 [\u001b[96mProgress \u001b[0m] 13.5% [75 / 557 messages] 385.38s remaining\n",
      "\u001b[2m2022-05-27 11:35.29\u001b[0m [\u001b[33m\u001b[1mwarning  \u001b[0m] \u001b[1mWARN: Error converting to 77.pdf: Loading pages (1/6)\n",
      "[>                                                           ] 0%\n",
      "[======>                      ..\u001b[0m\n",
      "2022-05-27 11:36.28 [\u001b[96mProgress \u001b[0m] 24.2% [135 / 557 messages] 375.82s remaining\n",
      "\u001b[2m2022-05-27 11:36.32\u001b[0m [\u001b[33m\u001b[1mwarning  \u001b[0m] \u001b[1mWARN: Error converting to 139.pdf: Loading pages (1/6)\n",
      "[>                                                           ] 0%\n",
      "[======>                     ..\u001b[0m\n",
      "2022-05-27 11:37.54 [\u001b[96mProgress \u001b[0m] 38.6% [215 / 557 messages] 328.4s remainingg\n",
      "\u001b[2m2022-05-27 11:37.55\u001b[0m [\u001b[31m\u001b[1merror    \u001b[0m] \u001b[1mERROR: No filename found for attachment, integer will be used instead.\u001b[0m\n",
      "\n",
      "\u001b[2m2022-05-27 11:37.55\u001b[0m [\u001b[31m\u001b[1merror    \u001b[0m] \u001b[1mERROR: Error formatting HTML for PDF derivative: TypeError('can only concatenate str (not \"NoneType\") to str')\u001b[0m\n",
      "\n",
      "\u001b[2m2022-05-27 11:37.55\u001b[0m [\u001b[31m\u001b[1merror    \u001b[0m] \u001b[1mERROR: Error writing HTML and converting to PDF derivative: UnboundLocalError(\"local variable 'html_formatted' referenced before assignment\")\u001b[0m\n",
      "2022-05-27 11:41.55 [\u001b[96mProgress \u001b[0m] 65.5% [365 / 557 messages] 235.38s remaining\n",
      "\u001b[2m2022-05-27 11:42.00\u001b[0m [\u001b[33m\u001b[1mwarning  \u001b[0m] \u001b[1mWARN: Error converting to 368.pdf: Loading pages (1/6)\n",
      "[>                                                           ] 0%\n",
      "[======>                     ..\u001b[0m\n",
      "2022-05-27 11:42.03 [\u001b[96mProgress \u001b[0m] 66.4% [370 / 557 messages] 230.47s remaining\n",
      "\u001b[2m2022-05-27 11:42.13\u001b[0m [\u001b[33m\u001b[1mwarning  \u001b[0m] \u001b[1mWARN: Error converting to 375.pdf: Loading pages (1/6)\n",
      "[>                                                           ] 0%\n",
      "[======>                     ..\u001b[0m\n",
      "2022-05-27 11:42.13 [\u001b[96mProgress \u001b[0m] 67.3% [375 / 557 messages] 225.75s remaining\n",
      "\u001b[2m2022-05-27 11:42.14\u001b[0m [\u001b[33m\u001b[1mwarning  \u001b[0m] \u001b[1mWARN: Error converting to 376.pdf: Loading pages (1/6)\n",
      "[>                                                           ] 0%\n",
      "[======>                     ..\u001b[0m\n",
      "2022-05-27 11:42.22 [\u001b[96mProgress \u001b[0m] 68.2% [380 / 557 messages] 220.95s remaining\n",
      "\u001b[2m2022-05-27 11:42.32\u001b[0m [\u001b[33m\u001b[1mwarning  \u001b[0m] \u001b[1mWARN: Error converting to 385.pdf: Loading pages (1/6)\n",
      "[>                                                           ] 0%\n",
      "[======>                     ..\u001b[0m\n",
      "2022-05-27 11:42.32 [\u001b[96mProgress \u001b[0m] 69.1% [385 / 557 messages] 216.29s remaining\n",
      "\u001b[2m2022-05-27 11:42.35\u001b[0m [\u001b[33m\u001b[1mwarning  \u001b[0m] \u001b[1mWARN: Error converting to 387.pdf: Loading pages (1/6)\n",
      "[>                                                           ] 0%\n",
      "[======>                     ..\u001b[0m\n",
      "2022-05-27 11:43.11 [\u001b[96mProgress \u001b[0m] 72.7% [405 / 557 messages] 196.46s remaining\n",
      "\u001b[2m2022-05-27 11:43.20\u001b[0m [\u001b[33m\u001b[1mwarning  \u001b[0m] \u001b[1mWARN: Error converting to 409.pdf: Loading pages (1/6)\n",
      "[>                                                           ] 0%\n",
      "[======>                     ..\u001b[0m\n",
      "2022-05-27 11:43.56 [\u001b[96mProgress \u001b[0m] 76.3% [425 / 557 messages] 176.53s remaining\n",
      "\u001b[2m2022-05-27 11:43.58\u001b[0m [\u001b[33m\u001b[1mwarning  \u001b[0m] \u001b[1mWARN: Error converting to 426.pdf: Loading pages (1/6)\n",
      "[>                                                           ] 0%\n",
      "[======>                     ..\u001b[0m\n",
      "2022-05-27 11:45.01 [\u001b[96mProgress \u001b[0m] 81.7% [455 / 557 messages] 142.14s remaining\n",
      "\u001b[2m2022-05-27 11:45.13\u001b[0m [\u001b[33m\u001b[1mwarning  \u001b[0m] \u001b[1mWARN: Error converting to 460.pdf: Loading pages (1/6)\n",
      "[>                                                           ] 0%\n",
      "[======>                     ..\u001b[0m\n",
      "2022-05-27 11:45.50 [\u001b[96mProgress \u001b[0m] 85.3% [475 / 557 messages] 117.89s remaining\n",
      "\u001b[2m2022-05-27 11:45.57\u001b[0m [\u001b[33m\u001b[1mwarning  \u001b[0m] \u001b[1mWARN: Error converting to 478.pdf: Loading pages (1/6)\n",
      "[>                                                           ] 0%\n",
      "[======>                     ..\u001b[0m\n",
      "2022-05-27 11:46.02 [\u001b[96mProgress \u001b[0m] 86.2% [480 / 557 messages] 111.5s remaining\n",
      "\u001b[2m2022-05-27 11:46.09\u001b[0m [\u001b[33m\u001b[1mwarning  \u001b[0m] \u001b[1mWARN: Error converting to 483.pdf: Loading pages (1/6)\n",
      "[>                                                           ] 0%\n",
      "[======>                     ..\u001b[0m\n",
      "2022-05-27 11:46.14 [\u001b[96mProgress \u001b[0m] 87.1% [485 / 557 messages] 104.96s remaining\n",
      "\u001b[2m2022-05-27 11:46.17\u001b[0m [\u001b[31m\u001b[1merror    \u001b[0m] \u001b[1mERROR: No filename found for attachment, integer will be used instead.\u001b[0m\n",
      "\n",
      "\u001b[2m2022-05-27 11:46.19\u001b[0m [\u001b[31m\u001b[1merror    \u001b[0m] \u001b[1mERROR: Error formatting HTML for PDF derivative: TypeError('can only concatenate str (not \"NoneType\") to str')\u001b[0m\n",
      "\n",
      "\u001b[2m2022-05-27 11:46.19\u001b[0m [\u001b[31m\u001b[1merror    \u001b[0m] \u001b[1mERROR: Error writing HTML and converting to PDF derivative: UnboundLocalError(\"local variable 'html_formatted' referenced before assignment\")\u001b[0m\n",
      "\n",
      "\u001b[2m2022-05-27 11:46.26\u001b[0m [\u001b[33m\u001b[1mwarning  \u001b[0m] \u001b[1mWARN: Error converting to 490.pdf: Loading pages (1/6)\n",
      "[>                                                           ] 0%\n",
      "[======>                     ..\u001b[0m\n",
      "2022-05-27 11:46.26 [\u001b[96mProgress \u001b[0m] 88.0% [490 / 557 messages] 98.24s remaining\n",
      "\u001b[2m2022-05-27 11:46.36\u001b[0m [\u001b[33m\u001b[1mwarning  \u001b[0m] \u001b[1mWARN: Error converting to 494.pdf: Loading pages (1/6)\n",
      "[>                                                           ] 0%\n",
      "[======>                     ..\u001b[0m\n",
      "2022-05-27 11:46.51 [\u001b[96mProgress \u001b[0m] 89.8% [500 / 557 messages] 84.75s remaining\n",
      "\u001b[2m2022-05-27 11:47.03\u001b[0m [\u001b[33m\u001b[1mwarning  \u001b[0m] \u001b[1mWARN: Error converting to 505.pdf: Loading pages (1/6)\n",
      "[>                                                           ] 0%\n",
      "[======>                     ..\u001b[0m\n",
      "2022-05-27 11:47.03 [\u001b[96mProgress \u001b[0m] 90.7% [505 / 557 messages] 77.78s remaining\n",
      "\u001b[2m2022-05-27 11:47.08\u001b[0m [\u001b[31m\u001b[1merror    \u001b[0m] \u001b[1mERROR: No filename found for attachment, integer will be used instead.\u001b[0m\n",
      "\n",
      "\u001b[2m2022-05-27 11:47.10\u001b[0m [\u001b[31m\u001b[1merror    \u001b[0m] \u001b[1mERROR: Error formatting HTML for PDF derivative: TypeError('can only concatenate str (not \"NoneType\") to str')\u001b[0m\n",
      "\n",
      "\u001b[2m2022-05-27 11:47.10\u001b[0m [\u001b[31m\u001b[1merror    \u001b[0m] \u001b[1mERROR: Error writing HTML and converting to PDF derivative: UnboundLocalError(\"local variable 'html_formatted' referenced before assignment\")\u001b[0m\n",
      "2022-05-27 11:47.28 [\u001b[96mProgress \u001b[0m] 92.5% [515 / 557 messages] 63.64s remaining\n",
      "\u001b[2m2022-05-27 11:47.36\u001b[0m [\u001b[33m\u001b[1mwarning  \u001b[0m] \u001b[1mWARN: Error converting to 518.pdf: Loading pages (1/6)\n",
      "[>                                                           ] 0%\n",
      "[======>                     ..\u001b[0m\n",
      "2022-05-27 11:47.41 [\u001b[96mProgress \u001b[0m] 93.4% [520 / 557 messages] 56.48s remaining\n",
      "\u001b[2m2022-05-27 11:47.44\u001b[0m [\u001b[33m\u001b[1mwarning  \u001b[0m] \u001b[1mWARN: Error converting to 521.pdf: Loading pages (1/6)\n",
      "[>                                                           ] 0%\n",
      "[======>                     ..\u001b[0m\n",
      "2022-05-27 11:48.07 [\u001b[96mProgress \u001b[0m] 95.2% [530 / 557 messages] 41.78s remaining\n",
      "\u001b[2m2022-05-27 11:48.14\u001b[0m [\u001b[33m\u001b[1mwarning  \u001b[0m] \u001b[1mWARN: Error converting to 532.pdf: Loading pages (1/6)\n",
      "[>                                                           ] 0%\n",
      "[======>                     ..\u001b[0m\n",
      "2022-05-27 11:48.22 [\u001b[96mProgress \u001b[0m] 96.1% [535 / 557 messages] 34.33s remaining\n",
      "\u001b[2m2022-05-27 11:48.36\u001b[0m [\u001b[33m\u001b[1mwarning  \u001b[0m] \u001b[1mWARN: Error converting to 540.pdf: Loading pages (1/6)\n",
      "[>                                                           ] 0%\n",
      "[======>                     ..\u001b[0m\n",
      "2022-05-27 11:49.04 [\u001b[96mProgress \u001b[0m] 98.7% [550 / 557 messages] 11.16s remaining\n",
      "\u001b[2m2022-05-27 11:49.09\u001b[0m [\u001b[33m\u001b[1mwarning  \u001b[0m] \u001b[1mWARN: Error converting to 552.pdf: Loading pages (1/6)\n",
      "[>                                                           ] 0%\n",
      "[======>                     ..\u001b[0m\n",
      "\n",
      "\u001b[2m2022-05-27 11:49.12\u001b[0m [\u001b[33m\u001b[1mwarning  \u001b[0m] \u001b[1mWARN: Error converting to 553.pdf: Loading pages (1/6)\n",
      "[>                                                           ] 0%\n",
      "[======>                     ..\u001b[0m\n",
      "2022-05-27 11:49.24 [\u001b[96mProgress \u001b[0m] 100.0% [557 / 557 messages] 0.0s remaining\n",
      "2022-05-27 11:49.28 [\u001b[96mProgress \u001b[0m] Finished packaging mailbag.\n"
     ]
    }
   ],
   "source": [
    "! mailbagit sampleData/allfacstaff.pst -i pst -d eml mbox html pdf -m test7"
   ]
  },
  {
   "cell_type": "markdown",
   "id": "0bbe50be",
   "metadata": {},
   "source": [
    "#### Reset the sample data"
   ]
  },
  {
   "cell_type": "code",
   "execution_count": null,
   "id": "b672095e",
   "metadata": {},
   "outputs": [],
   "source": [
    "! cp sampleData/test7/data/pst/allfacstaff.pst sampleData/"
   ]
  },
  {
   "cell_type": "markdown",
   "id": "7005125d",
   "metadata": {},
   "source": [
    "[View the error report](/tree/sampleData/test7_errors)"
   ]
  },
  {
   "cell_type": "markdown",
   "id": "5a826c1c",
   "metadata": {},
   "source": [
    "[Checkout the mailbag](/tree/sampleData/test7)"
   ]
  }
 ],
 "metadata": {
  "kernelspec": {
   "display_name": "Python 3 (ipykernel)",
   "language": "python",
   "name": "python3"
  },
  "language_info": {
   "codemirror_mode": {
    "name": "ipython",
    "version": 3
   },
   "file_extension": ".py",
   "mimetype": "text/x-python",
   "name": "python",
   "nbconvert_exporter": "python",
   "pygments_lexer": "ipython3",
   "version": "3.8.10"
  }
 },
 "nbformat": 4,
 "nbformat_minor": 5
}
